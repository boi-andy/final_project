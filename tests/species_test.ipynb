{
 "cells": [
  {
   "cell_type": "code",
   "execution_count": 1,
   "metadata": {},
   "outputs": [
    {
     "name": "stdout",
     "output_type": "stream",
     "text": [
      "Species Name: Human\n",
      "Classification: mammal\n",
      "Designation: sentient\n",
      "Average Height: 180\n",
      "Average Lifespan: 120\n",
      "Language: Galactic Basic\n"
     ]
    }
   ],
   "source": [
    "import requests\n",
    "\n",
    "# Define the API URL for a specific species (e.g., species with ID 1)\n",
    "api_url = 'https://swapi.dev/api/species/1/'\n",
    "\n",
    "# Make the API request\n",
    "response = requests.get(api_url)\n",
    "\n",
    "# Check if the request was successful (status code 200)\n",
    "if response.status_code == 200:\n",
    "    # Parse the JSON response\n",
    "    species_data = response.json()\n",
    "\n",
    "    # Display information about the species\n",
    "    print(\"Species Name:\", species_data['name'])\n",
    "    print(\"Classification:\", species_data['classification'])\n",
    "    print(\"Designation:\", species_data['designation'])\n",
    "    print(\"Average Height:\", species_data['average_height'])\n",
    "    print(\"Average Lifespan:\", species_data['average_lifespan'])\n",
    "    print(\"Language:\", species_data['language'])\n",
    "else:\n",
    "    print(f\"Failed to retrieve data. Status code: {response.status_code}\")\n"
   ]
  }
 ],
 "metadata": {
  "kernelspec": {
   "display_name": "stat386",
   "language": "python",
   "name": "python3"
  },
  "language_info": {
   "codemirror_mode": {
    "name": "ipython",
    "version": 3
   },
   "file_extension": ".py",
   "mimetype": "text/x-python",
   "name": "python",
   "nbconvert_exporter": "python",
   "pygments_lexer": "ipython3",
   "version": "3.10.12"
  },
  "orig_nbformat": 4
 },
 "nbformat": 4,
 "nbformat_minor": 2
}
