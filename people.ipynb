{
 "cells": [
  {
   "cell_type": "code",
   "execution_count": 1,
   "metadata": {},
   "outputs": [],
   "source": [
    "import pandas as pd\n",
    "import requests\n",
    "import re\n",
    "from bs4 import BeautifulSoup\n",
    "import matplotlib.pyplot as plt\n",
    "import seaborn as sns\n",
    "import numpy as np\n",
    "from scipy.stats import pearsonr"
   ]
  },
  {
   "cell_type": "code",
   "execution_count": 2,
   "metadata": {},
   "outputs": [
    {
     "name": "stdout",
     "output_type": "stream",
     "text": [
      "Name: Luke Skywalker\n",
      "Birth Year: 19BBY\n",
      "Gender: male\n",
      "Height: 172\n",
      "Mass: 77\n",
      "Hair Color: blond\n",
      "Eye Color: blue\n",
      "Skin Color: fair\n"
     ]
    }
   ],
   "source": [
    "# Test for one person\n",
    "\n",
    "# Define the API URL for a specific person (e.g., person with ID 1)\n",
    "api_url = 'https://swapi.dev/api/people/1/'\n",
    "\n",
    "# Make the API request\n",
    "response = requests.get(api_url)\n",
    "\n",
    "# Check if the request was successful (status code 200)\n",
    "if response.status_code == 200:\n",
    "    # Parse the JSON response\n",
    "    person_data = response.json()\n",
    "\n",
    "    # Display information about the person\n",
    "    print(\"Name:\", person_data['name'])\n",
    "    print(\"Birth Year:\", person_data['birth_year'])\n",
    "    print(\"Gender:\", person_data['gender'])\n",
    "    print(\"Height:\", person_data['height'])\n",
    "    print(\"Mass:\", person_data['mass'])\n",
    "    print(\"Hair Color:\", person_data['hair_color'])\n",
    "    print(\"Eye Color:\", person_data['eye_color'])\n",
    "    print(\"Skin Color:\", person_data['skin_color'])\n",
    "else:\n",
    "    print(f\"Failed to retrieve data. Status code: {response.status_code}\")\n"
   ]
  }
 ],
 "metadata": {
  "kernelspec": {
   "display_name": "stat386",
   "language": "python",
   "name": "python3"
  },
  "language_info": {
   "codemirror_mode": {
    "name": "ipython",
    "version": 3
   },
   "file_extension": ".py",
   "mimetype": "text/x-python",
   "name": "python",
   "nbconvert_exporter": "python",
   "pygments_lexer": "ipython3",
   "version": "3.10.12"
  },
  "orig_nbformat": 4
 },
 "nbformat": 4,
 "nbformat_minor": 2
}
